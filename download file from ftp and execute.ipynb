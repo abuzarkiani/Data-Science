{
 "cells": [
  {
   "cell_type": "code",
   "execution_count": 1,
   "metadata": {},
   "outputs": [
    {
     "data": {
      "text/plain": [
       "'221 Goodbye.'"
      ]
     },
     "execution_count": 1,
     "metadata": {},
     "output_type": "execute_result"
    }
   ],
   "source": [
    "#Downloading support tool from ftp server\n",
    "import ftplib\n",
    "\n",
    "#support tool path and file name\n",
    "path = '/support/tools/fsdiag'\n",
    "filename = 'fsdiag_standalone.exe'\n",
    "\n",
    "#creating ftp varaible to login and download file\n",
    "ftp = ftplib.FTP('ftp.f-secure.com') \n",
    "ftp.login() \n",
    "ftp.cwd(path)\n",
    "ftp.retrbinary(\"RETR \" + filename, open(filename, 'wb').write)\n",
    "ftp.quit()"
   ]
  },
  {
   "cell_type": "code",
   "execution_count": 8,
   "metadata": {},
   "outputs": [],
   "source": [
    "#excuting program from OS\n",
    "\n",
    "import os\n",
    "#Execute any other program within the Windows OS\n",
    "os.startfile(\"C:\\\\Program Files (x86)\\\\Google\\\\Chrome\\\\Application\\chrome.exe\")\n",
    "\n",
    "#Execute the support tool so it can start gathering logs from the system\n",
    "os.startfile(\"fsdiag_standalone.exe\")"
   ]
  },
  {
   "cell_type": "code",
   "execution_count": 2,
   "metadata": {},
   "outputs": [
    {
     "name": "stdout",
     "output_type": "stream",
     "text": [
      "False\n"
     ]
    }
   ],
   "source": [
    "#Verify that the fsdiag.7z exists in the Desktop.\n",
    "\n",
    "import os.path\n",
    "print (os.path.exists(\"C:\\\\Users\\\\Abuzar\\\\Desktop\\\\fsdiag.zip\"))"
   ]
  }
 ],
 "metadata": {
  "kernelspec": {
   "display_name": "Python 2",
   "language": "python",
   "name": "python2"
  },
  "language_info": {
   "codemirror_mode": {
    "name": "ipython",
    "version": 2
   },
   "file_extension": ".py",
   "mimetype": "text/x-python",
   "name": "python",
   "nbconvert_exporter": "python",
   "pygments_lexer": "ipython2",
   "version": "2.7.15"
  }
 },
 "nbformat": 4,
 "nbformat_minor": 2
}
