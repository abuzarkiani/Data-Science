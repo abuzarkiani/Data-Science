{
 "cells": [
  {
   "cell_type": "markdown",
   "metadata": {},
   "source": [
    "# Building Graph with NetworkX"
   ]
  },
  {
   "cell_type": "markdown",
   "metadata": {},
   "source": [
    "# Importing Libraries"
   ]
  },
  {
   "cell_type": "code",
   "execution_count": 1,
   "metadata": {},
   "outputs": [],
   "source": [
    "import itertools\n",
    "import copy\n",
    "import networkx as nx\n",
    "import pandas as pd\n",
    "import csv\n",
    "import matplotlib.pyplot as plt"
   ]
  },
  {
   "cell_type": "markdown",
   "metadata": {},
   "source": [
    "# Description"
   ]
  },
  {
   "cell_type": "markdown",
   "metadata": {},
   "source": [
    "I have downloaded dataset DM-LC which is fly data set for small/medium-scale protein-protein interactions. The dataset was originally in text file, it was quite hard for me how to what was going in data set. As a data science learner, this problem was data exploration - I didn't know what I am looking for. I was think how I could make this dataset as structured. I have spent quite well amount of time on dataset whether it should be text or csv. Like everything has it own pros and cons, So I have decided to go with the csv file. Text files are mostly suitable for unstructured data but in my data set there were two things nodes and their weights. Below shared link explained most common used data formats.\n",
    "https://www.analyticsvidhya.com/blog/2017/03/read-commonly-used-formats-using-python/"
   ]
  },
  {
   "cell_type": "markdown",
   "metadata": {},
   "source": [
    "# Changing Data set Schema to Structured "
   ]
  },
  {
   "cell_type": "code",
   "execution_count": 2,
   "metadata": {},
   "outputs": [],
   "source": [
    "#reading text file \n",
    "with open('DM-LC.txt', 'r') as text_file:\n",
    "    #spliting text file by lines\n",
    "    split_by_line = (line.strip() for line in text_file)\n",
    "    lines = (line.split() for line in split_by_line if line)\n",
    "    with open('DM-LC.csv', 'w') as csv_file:\n",
    "        #writing to csv file\n",
    "        writer = csv.writer(csv_file)\n",
    "        #making new csv file\n",
    "        #inserting column names\n",
    "        writer.writerow(('node1','node2','distance'))\n",
    "        writer.writerows(lines)"
   ]
  },
  {
   "cell_type": "markdown",
   "metadata": {},
   "source": [
    "# Load Dataset"
   ]
  },
  {
   "cell_type": "markdown",
   "metadata": {},
   "source": [
    "It is simple data set that I would use to create the graphs. Each row represents a single edge of the graph with weight attribute.\n",
    "node1 and node2: names of the connected nodes\n",
    "distance: distance between two nodes or length of the edge"
   ]
  },
  {
   "cell_type": "code",
   "execution_count": 3,
   "metadata": {},
   "outputs": [
    {
     "data": {
      "text/html": [
       "<div>\n",
       "<style scoped>\n",
       "    .dataframe tbody tr th:only-of-type {\n",
       "        vertical-align: middle;\n",
       "    }\n",
       "\n",
       "    .dataframe tbody tr th {\n",
       "        vertical-align: top;\n",
       "    }\n",
       "\n",
       "    .dataframe thead th {\n",
       "        text-align: right;\n",
       "    }\n",
       "</style>\n",
       "<table border=\"1\" class=\"dataframe\">\n",
       "  <thead>\n",
       "    <tr style=\"text-align: right;\">\n",
       "      <th></th>\n",
       "      <th>node1</th>\n",
       "      <th>node2</th>\n",
       "      <th>distance</th>\n",
       "    </tr>\n",
       "  </thead>\n",
       "  <tbody>\n",
       "    <tr>\n",
       "      <th>0</th>\n",
       "      <td>B0024.14</td>\n",
       "      <td>F38E9.2</td>\n",
       "      <td>3.4297</td>\n",
       "    </tr>\n",
       "    <tr>\n",
       "      <th>1</th>\n",
       "      <td>B0025.2</td>\n",
       "      <td>F11C1.6</td>\n",
       "      <td>3.4297</td>\n",
       "    </tr>\n",
       "    <tr>\n",
       "      <th>2</th>\n",
       "      <td>B0025.2</td>\n",
       "      <td>F55D12.4</td>\n",
       "      <td>3.4297</td>\n",
       "    </tr>\n",
       "    <tr>\n",
       "      <th>3</th>\n",
       "      <td>B0025.2</td>\n",
       "      <td>F57B9.10</td>\n",
       "      <td>3.4297</td>\n",
       "    </tr>\n",
       "    <tr>\n",
       "      <th>4</th>\n",
       "      <td>B0035.10</td>\n",
       "      <td>B0207.4</td>\n",
       "      <td>3.4297</td>\n",
       "    </tr>\n",
       "    <tr>\n",
       "      <th>5</th>\n",
       "      <td>B0035.10</td>\n",
       "      <td>C09G4.5</td>\n",
       "      <td>3.4297</td>\n",
       "    </tr>\n",
       "    <tr>\n",
       "      <th>6</th>\n",
       "      <td>B0035.10</td>\n",
       "      <td>K01G5.2</td>\n",
       "      <td>3.4297</td>\n",
       "    </tr>\n",
       "    <tr>\n",
       "      <th>7</th>\n",
       "      <td>B0035.10</td>\n",
       "      <td>K07C11.2</td>\n",
       "      <td>3.4297</td>\n",
       "    </tr>\n",
       "    <tr>\n",
       "      <th>8</th>\n",
       "      <td>B0035.10</td>\n",
       "      <td>K08H2.6</td>\n",
       "      <td>3.4297</td>\n",
       "    </tr>\n",
       "    <tr>\n",
       "      <th>9</th>\n",
       "      <td>B0035.10</td>\n",
       "      <td>R06A4.7</td>\n",
       "      <td>3.4297</td>\n",
       "    </tr>\n",
       "  </tbody>\n",
       "</table>\n",
       "</div>"
      ],
      "text/plain": [
       "      node1     node2  distance\n",
       "0  B0024.14   F38E9.2    3.4297\n",
       "1   B0025.2   F11C1.6    3.4297\n",
       "2   B0025.2  F55D12.4    3.4297\n",
       "3   B0025.2  F57B9.10    3.4297\n",
       "4  B0035.10   B0207.4    3.4297\n",
       "5  B0035.10   C09G4.5    3.4297\n",
       "6  B0035.10   K01G5.2    3.4297\n",
       "7  B0035.10  K07C11.2    3.4297\n",
       "8  B0035.10   K08H2.6    3.4297\n",
       "9  B0035.10   R06A4.7    3.4297"
      ]
     },
     "execution_count": 3,
     "metadata": {},
     "output_type": "execute_result"
    }
   ],
   "source": [
    "edgelist = pd.read_csv('DM-LC.csv')\n",
    "edgelist.head(10)"
   ]
  },
  {
   "cell_type": "markdown",
   "metadata": {},
   "source": [
    "# Create Graph"
   ]
  },
  {
   "cell_type": "code",
   "execution_count": 30,
   "metadata": {},
   "outputs": [
    {
     "data": {
      "image/png": "[encoded data removed]",
      "text/plain": [
       "<Figure size 432x288 with 1 Axes>"
      ]
     },
     "metadata": {},
     "output_type": "display_data"
    }
   ],
   "source": [
    "#Creating empty graph without edges and nodes\n",
    "%matplotlib inline\n",
    "import networkx as nx\n",
    "g = nx.Graph()\n",
    "\n",
    "for i, elrow in edgelist.iterrows():\n",
    "    g.add_edge(elrow[0], elrow[1], attr_dict=elrow[2:].to_dict())       \n",
    "    \n",
    "nx.draw(g)"
   ]
  },
  {
   "cell_type": "markdown",
   "metadata": {},
   "source": [
    "# Number of Nodes, Edges and the Average Degree of the network"
   ]
  },
  {
   "cell_type": "code",
   "execution_count": 67,
   "metadata": {},
   "outputs": [
    {
     "name": "stdout",
     "output_type": "stream",
     "text": [
      "# of edges: 1129\n",
      "# of nodes: 658\n",
      "degree of network: 3\n"
     ]
    }
   ],
   "source": [
    "print('# of edges: {}'.format(g.number_of_edges()))\n",
    "print('# of nodes: {}'.format(g.number_of_nodes()))\n",
    "\n",
    "degree_sequence = sorted([d for n, d in g.degree()], reverse=True)\n",
    "\n",
    "\n",
    "avg_degree = sum(degree_sequence)/ g.number_of_nodes()\n",
    "print('degree of network: {}' .format(avg_degree))"
   ]
  },
  {
   "cell_type": "markdown",
   "metadata": {},
   "source": [
    "# Density of the Network"
   ]
  },
  {
   "cell_type": "code",
   "execution_count": 111,
   "metadata": {},
   "outputs": [
    {
     "name": "stdout",
     "output_type": "stream",
     "text": [
      "density of network: 0.0052231521191\n"
     ]
    }
   ],
   "source": [
    "den = nx.density(g)\n",
    "print('density of network: {}' .format(den))"
   ]
  },
  {
   "cell_type": "markdown",
   "metadata": {},
   "source": [
    "# Minimum Spanning Tree "
   ]
  },
  {
   "cell_type": "code",
   "execution_count": 70,
   "metadata": {},
   "outputs": [
    {
     "data": {
      "image/png": "[encoded data removed]",
      "text/plain": [
       "<Figure size 432x288 with 1 Axes>"
      ]
     },
     "metadata": {},
     "output_type": "display_data"
    }
   ],
   "source": [
    "MST = nx.minimum_spanning_tree(g)\n",
    "nx.draw(MST)"
   ]
  },
  {
   "cell_type": "markdown",
   "metadata": {},
   "source": [
    "# Degree Distribution Histogram"
   ]
  },
  {
   "cell_type": "code",
   "execution_count": 65,
   "metadata": {},
   "outputs": [],
   "source": [
    "import collections\n",
    "import matplotlib.pyplot as plt\n",
    "import networkx as nx"
   ]
  },
  {
   "cell_type": "code",
   "execution_count": 97,
   "metadata": {},
   "outputs": [
    {
     "data": {
      "image/png": "[encoded data removed]",
      "text/plain": [
       "<Figure size 432x288 with 2 Axes>"
      ]
     },
     "metadata": {},
     "output_type": "display_data"
    }
   ],
   "source": [
    "degree_sequence = sorted([d for n, d in g.degree()], reverse=True)  # degree sequence\n",
    "degreeCount = collections.Counter(degree_sequence)\n",
    "deg, cnt = zip(*degreeCount.items())\n",
    "fig, ax = plt.subplots()\n",
    "plt.bar(deg, cnt, width=0.80, color='b')\n",
    "plt.title(\"Degree Histogram\")\n",
    "plt.ylabel(\"Count\")\n",
    "plt.xlabel(\"Degree\")\n",
    "ax.set_xticks([d + 0.9 for d in deg])\n",
    "ax.set_xticklabels(deg)\n",
    "\n",
    "# draw graph in inset\n",
    "plt.axes([0.4, 0.4, 0.5, 0.5])\n",
    "Gcc = sorted(nx.connected_component_subgraphs(g), key=len, reverse=True)[0]\n",
    "pos = nx.spring_layout(g)\n",
    "plt.axis('off')\n",
    "nx.draw_networkx_nodes(g, pos, node_size=20)\n",
    "nx.draw_networkx_edges(g, pos, alpha=0.4)\n",
    "\n",
    "plt.show()\n"
   ]
  },
  {
   "cell_type": "markdown",
   "metadata": {},
   "source": [
    "# Largest Component of the Network"
   ]
  },
  {
   "cell_type": "code",
   "execution_count": 105,
   "metadata": {},
   "outputs": [
    {
     "data": {
      "image/png": "[encoded data removed]",
      "text/plain": [
       "<Figure size 432x288 with 1 Axes>"
      ]
     },
     "metadata": {},
     "output_type": "display_data"
    }
   ],
   "source": [
    "cg = max(nx.connected_component_subgraphs(g), key=len)\n",
    "nx.draw(cg)"
   ]
  },
  {
   "cell_type": "markdown",
   "metadata": {},
   "source": [
    "# Diameter of Connected Network"
   ]
  },
  {
   "cell_type": "code",
   "execution_count": 106,
   "metadata": {},
   "outputs": [
    {
     "name": "stdout",
     "output_type": "stream",
     "text": [
      "diameter of connected network: 18\n"
     ]
    }
   ],
   "source": [
    "dia = nx.diameter(cg, e=None)\n",
    "print('diameter of connected network: {}' .format(dia))"
   ]
  },
  {
   "cell_type": "markdown",
   "metadata": {},
   "source": [
    "# Center of Connected Network"
   ]
  },
  {
   "cell_type": "code",
   "execution_count": 107,
   "metadata": {},
   "outputs": [
    {
     "name": "stdout",
     "output_type": "stream",
     "text": [
      "Center node of the network: ['W02D3.9']\n"
     ]
    }
   ],
   "source": [
    "cent = nx.center(cg, e=None)\n",
    "print('Center node of the network: {}' .format(cent))"
   ]
  },
  {
   "cell_type": "markdown",
   "metadata": {},
   "source": [
    "# Clique Communities with 3 nodes"
   ]
  },
  {
   "cell_type": "code",
   "execution_count": 147,
   "metadata": {},
   "outputs": [
    {
     "name": "stdout",
     "output_type": "stream",
     "text": [
      "There are  31 clique communities\n",
      "\n"
     ]
    }
   ],
   "source": [
    "from networkx.algorithms.community import k_clique_communities\n",
    "print 'There are ', len(list(k_clique_communities(cg, 3))),'clique communities\\n'\n",
    "\n"
   ]
  }
 ],
 "metadata": {
  "kernelspec": {
   "display_name": "Python 2",
   "language": "python",
   "name": "python2"
  },
  "language_info": {
   "codemirror_mode": {
    "name": "ipython",
    "version": 2
   },
   "file_extension": ".py",
   "mimetype": "text/x-python",
   "name": "python",
   "nbconvert_exporter": "python",
   "pygments_lexer": "ipython2",
   "version": "2.7.15"
  }
 },
 "nbformat": 4,
 "nbformat_minor": 2
}
